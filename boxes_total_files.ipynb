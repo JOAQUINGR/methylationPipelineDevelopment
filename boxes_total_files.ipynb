{
 "cells": [
  {
   "cell_type": "code",
   "execution_count": 17,
   "metadata": {},
   "outputs": [
    {
     "name": "stdout",
     "output_type": "stream",
     "text": [
      "ST-E00126:1092:HF3YWCCX2:7:2123:11079:34289 G00001\n",
      "ST-E00126:1092:HF3YWCCX2:7:2121:12033:31371 G00001\n",
      "ST-E00126:1092:HF3YWCCX2:7:1110:28666:65212 G00001\n",
      "ST-E00126:1092:HF3YWCCX2:7:1110:28666:65212 G00001\n",
      "ST-E00126:1092:HF3YWCCX2:7:2123:11079:34289 G00001\n",
      "ST-E00126:1092:HF3YWCCX2:7:1101:4107:47421 G00001\n",
      "ST-E00126:1092:HF3YWCCX2:7:1101:4107:47421 G00001\n",
      "ST-E00126:1092:HF3YWCCX2:7:1109:22526:62136 G00002\n",
      "ST-E00126:1092:HF3YWCCX2:7:1109:22526:62136 G00002\n",
      "ST-E00126:1092:HF3YWCCX2:7:1120:13271:31125 G00002\n",
      "ST-E00126:1092:HF3YWCCX2:7:1120:13271:31125 G00002\n",
      "ST-E00126:1092:HF3YWCCX2:7:2204:18954:28734 G00002\n",
      "ST-E00126:1092:HF3YWCCX2:7:2204:18954:28734 G00002\n",
      "ST-E00126:1092:HF3YWCCX2:7:2102:31720:59569 G00002\n",
      "ST-E00126:1092:HF3YWCCX2:7:2102:31639:59640 G00002\n",
      "ST-E00126:1092:HF3YWCCX2:7:2102:31720:59569 G00002\n",
      "ST-E00126:1092:HF3YWCCX2:7:2102:31639:59640 G00002\n"
     ]
    }
   ],
   "source": [
    "import pandas as pd\n",
    "\n",
    "totalForBox = {}\n",
    "\n",
    "with open('developmentFiles/newprueba.bed', 'r') as intersectOut:\n",
    "    intersectDf = pd.read_csv(\n",
    "        intersectOut, sep='\\t', usecols=[3, 12, 13, 14, 15],\n",
    "        names=['intersected', 'chr', 'start', 'end', 'boxname'],\n",
    "    )\n",
    "for index, id in intersectDf.iterrows():\n",
    "    \n",
    "    if id.boxname in totalForBox:\n",
    "        totalForBox[id.boxname].add(id.intersected.split('/')[0])\n",
    "    else:\n",
    "        totalForBox[id.boxname] = set(id.intersected.split('/')[0])\n",
    "    \n",
    "print(totalForBox)\n"
   ]
  },
  {
   "cell_type": "code",
   "execution_count": 2,
   "metadata": {},
   "outputs": [
    {
     "name": "stdout",
     "output_type": "stream",
     "text": [
      "{'1,1539,1544,G00001': 4, '1,12016,12021,G00002': 5}\n"
     ]
    }
   ],
   "source": [
    "import pandas as pd\n",
    "\n",
    "totalForBox = {}\n",
    "\n",
    "with open('developmentFiles/replicaltwo/newprueba.bed', 'r') as intersectOut:\n",
    "    intersectDf = pd.read_csv(\n",
    "        intersectOut, sep='\\t', usecols=[3, 12, 13, 14, 15],\n",
    "        names=['intersected', 'chr', 'start', 'end', 'boxname'],\n",
    "    )\n",
    "for index, ip in intersectDf.iterrows():\n",
    "    intersectOcurrence = str(ip.intersected.split('/')[0])\n",
    "    box = ','.join([str(ip.chr), str(ip.start), str(ip.end) ,ip.boxname])\n",
    "    if box in totalForBox:\n",
    "        totalForBox[box].add(intersectOcurrence)\n",
    "    else:\n",
    "        totalForBox[box] = {intersectOcurrence}\n",
    "\n",
    "for box in totalForBox:\n",
    "    boxlen = len(totalForBox[box])\n",
    "    totalForBox[box] = boxlen\n",
    "\n",
    "with open ('le.csv', 'w') as elcsv:\n",
    "    for name, recount in totalForBox.items():\n",
    "        elcsv.write('{},{}\\n'.format(name, recount))\n",
    "    \n",
    "print(totalForBox)"
   ]
  },
  {
   "cell_type": "code",
   "execution_count": 9,
   "metadata": {},
   "outputs": [
    {
     "data": {
      "text/html": [
       "<div>\n",
       "<style scoped>\n",
       "    .dataframe tbody tr th:only-of-type {\n",
       "        vertical-align: middle;\n",
       "    }\n",
       "\n",
       "    .dataframe tbody tr th {\n",
       "        vertical-align: top;\n",
       "    }\n",
       "\n",
       "    .dataframe thead th {\n",
       "        text-align: right;\n",
       "    }\n",
       "</style>\n",
       "<table border=\"1\" class=\"dataframe\">\n",
       "  <thead>\n",
       "    <tr style=\"text-align: right;\">\n",
       "      <th></th>\n",
       "      <th>1</th>\n",
       "      <th>1539</th>\n",
       "      <th>1544</th>\n",
       "      <th>G00001</th>\n",
       "      <th>4</th>\n",
       "    </tr>\n",
       "  </thead>\n",
       "  <tbody>\n",
       "    <tr>\n",
       "      <th>0</th>\n",
       "      <td>1</td>\n",
       "      <td>12016</td>\n",
       "      <td>12021</td>\n",
       "      <td>G00002</td>\n",
       "      <td>5</td>\n",
       "    </tr>\n",
       "  </tbody>\n",
       "</table>\n",
       "</div>"
      ],
      "text/plain": [
       "   1   1539   1544  G00001  4\n",
       "0  1  12016  12021  G00002  5"
      ]
     },
     "execution_count": 9,
     "metadata": {},
     "output_type": "execute_result"
    }
   ],
   "source": [
    "df = pd.read_csv('el.csv')\n",
    "df"
   ]
  },
  {
   "cell_type": "code",
   "execution_count": 31,
   "metadata": {},
   "outputs": [
    {
     "ename": "TypeError",
     "evalue": "merge() got multiple values for argument 'how'",
     "output_type": "error",
     "traceback": [
      "\u001b[1;31m---------------------------------------------------------------------------\u001b[0m",
      "\u001b[1;31mTypeError\u001b[0m                                 Traceback (most recent call last)",
      "\u001b[1;32m<ipython-input-31-bfc21929291a>\u001b[0m in \u001b[0;36m<module>\u001b[1;34m\u001b[0m\n\u001b[0;32m      4\u001b[0m \u001b[0mexperiment2df\u001b[0m \u001b[1;33m=\u001b[0m \u001b[0mpd\u001b[0m\u001b[1;33m.\u001b[0m\u001b[0mread_csv\u001b[0m\u001b[1;33m(\u001b[0m\u001b[1;34m'le.csv'\u001b[0m\u001b[1;33m)\u001b[0m\u001b[1;33m\u001b[0m\u001b[1;33m\u001b[0m\u001b[0m\n\u001b[0;32m      5\u001b[0m \u001b[0mexperiment3df\u001b[0m \u001b[1;33m=\u001b[0m \u001b[0mpd\u001b[0m\u001b[1;33m.\u001b[0m\u001b[0mread_csv\u001b[0m\u001b[1;33m(\u001b[0m\u001b[1;34m'le.csv'\u001b[0m\u001b[1;33m)\u001b[0m\u001b[1;33m\u001b[0m\u001b[1;33m\u001b[0m\u001b[0m\n\u001b[1;32m----> 6\u001b[1;33m \u001b[0mmergedDf\u001b[0m \u001b[1;33m=\u001b[0m \u001b[0mexperiment1df\u001b[0m\u001b[1;33m.\u001b[0m\u001b[0mmerge\u001b[0m\u001b[1;33m(\u001b[0m\u001b[0mexperiment2df\u001b[0m\u001b[1;33m,\u001b[0m\u001b[0mexperiment3df\u001b[0m\u001b[1;33m,\u001b[0m \u001b[0mon\u001b[0m\u001b[1;33m=\u001b[0m\u001b[1;33m[\u001b[0m\u001b[1;34m'chr'\u001b[0m\u001b[1;33m,\u001b[0m \u001b[1;34m'start'\u001b[0m\u001b[1;33m,\u001b[0m \u001b[1;34m'end'\u001b[0m\u001b[1;33m,\u001b[0m \u001b[1;34m'boxname'\u001b[0m\u001b[1;33m]\u001b[0m\u001b[1;33m,\u001b[0m \u001b[0mhow\u001b[0m\u001b[1;33m=\u001b[0m\u001b[1;34m'outer'\u001b[0m\u001b[1;33m)\u001b[0m\u001b[1;33m\u001b[0m\u001b[1;33m\u001b[0m\u001b[0m\n\u001b[0m\u001b[0;32m      7\u001b[0m \u001b[0mmergedDf\u001b[0m\u001b[1;33m.\u001b[0m\u001b[0mto_excel\u001b[0m\u001b[1;33m(\u001b[0m\u001b[1;34m'_merged_intersect.xls'\u001b[0m\u001b[1;33m,\u001b[0m \u001b[0mindex\u001b[0m\u001b[1;33m=\u001b[0m\u001b[1;32mFalse\u001b[0m\u001b[1;33m)\u001b[0m\u001b[1;33m\u001b[0m\u001b[1;33m\u001b[0m\u001b[0m\n",
      "\u001b[1;31mTypeError\u001b[0m: merge() got multiple values for argument 'how'"
     ]
    }
   ],
   "source": [
    "import pandas as pd\n",
    "\n",
    "experiment1df = pd.read_csv('el.csv')\n",
    "experiment2df = pd.read_csv('le.csv')\n",
    "experiment3df = pd.read_csv('le.csv')\n",
    "mergedDf = experiment1df.merge(experiment2df, on=['chr', 'start', 'end', 'boxname'], how='outer')\n",
    "mergedDf.to_excel('_merged_intersect.xls', index=False)"
   ]
  },
  {
   "cell_type": "code",
   "execution_count": 20,
   "metadata": {},
   "outputs": [],
   "source": [
    "df = pd.read_csv('_merged_intersect.tsv',sep='\\t')"
   ]
  },
  {
   "cell_type": "code",
   "execution_count": 28,
   "metadata": {},
   "outputs": [],
   "source": [
    "import pandas as pd\n",
    "\n",
    "experiment1df = pd.read_csv('el.csv')\n",
    "experiment2df = pd.read_csv('le.csv')\n",
    "concatDf = pd.concat([experiment1df,experiment2df],axis=1)\n",
    "# Input/Input\n",
    "# ERF1/ERF1\n"
   ]
  },
  {
   "cell_type": "code",
   "execution_count": 14,
   "metadata": {},
   "outputs": [],
   "source": [
    "import pandas as pd\n",
    "\n",
    "experiment1df = pd.read_csv('developmentFiles/replicaone/intersections/ERF1/GAC_merged_intersect.csv')\n",
    "\n",
    "experiment1df.to_excel('developmentFiles/replicaone/intersections/ERF1/ERF1_GAC_merged_intersect.xls', index=False)"
   ]
  }
 ],
 "metadata": {
  "kernelspec": {
   "display_name": "Python 3",
   "language": "python",
   "name": "python3"
  },
  "language_info": {
   "codemirror_mode": {
    "name": "ipython",
    "version": 3
   },
   "file_extension": ".py",
   "mimetype": "text/x-python",
   "name": "python",
   "nbconvert_exporter": "python",
   "pygments_lexer": "ipython3",
   "version": "3.7.6"
  }
 },
 "nbformat": 4,
 "nbformat_minor": 4
}
